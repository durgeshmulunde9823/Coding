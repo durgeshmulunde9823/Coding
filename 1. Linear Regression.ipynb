{
 "cells": [
  {
   "cell_type": "raw",
   "metadata": {},
   "source": [
    "Linear Regression is a type of supervised machine learning algorithm.\n",
    "This is very basic algorithm.\n",
    "It is the algorithm which highly used initially and highly studied as well.\n",
    "Linear regression is a linear approach to modelling the relationship between independent and dependent variable.\n",
    "Main Target of linear regression is to find out the best fit line.\n",
    "Linear regression is an algorithm where we basically try to understand the linear relationship between dependent and one or more independent variable."
   ]
  },
  {
   "cell_type": "code",
   "execution_count": null,
   "metadata": {},
   "outputs": [],
   "source": [
    "Types of Linear Regression:\n",
    "1. Simple Linear Regression\n",
    "    1 dependent variable and 1 independent variable.\n",
    "    \n",
    "2. Multiple Linear Regression\n",
    "    1 dependent variable and more than 1 independent variables."
   ]
  },
  {
   "cell_type": "code",
   "execution_count": null,
   "metadata": {},
   "outputs": [],
   "source": [
    "Dependent Variable should be in continuous or numerical form."
   ]
  },
  {
   "cell_type": "code",
   "execution_count": null,
   "metadata": {},
   "outputs": [],
   "source": [
    "It is based on line.\n",
    "So when it comes to linear regression we basically have a stright line.\n",
    "Straight line is nothing but a linear equation that is why this algorithm is known as Linear Regression."
   ]
  },
  {
   "cell_type": "code",
   "execution_count": null,
   "metadata": {},
   "outputs": [],
   "source": [
    "y = mx + c >> linear equation for straight line.\n",
    "\n",
    "y >> dependent variable\n",
    "x >> independent variable\n",
    "m >> slope\n",
    "c >> intercept/ it is a constant means the value of y when x is 0."
   ]
  },
  {
   "cell_type": "code",
   "execution_count": null,
   "metadata": {},
   "outputs": [],
   "source": [
    "Multiple Linear Regression:\n",
    "y = m1x1 + m2x2 + c                   >> 2 independent variables\n",
    "y = m1x1 + m2x2 + ....... + mnxn + c  >> n independent variables"
   ]
  },
  {
   "cell_type": "code",
   "execution_count": null,
   "metadata": {},
   "outputs": [],
   "source": [
    "The line for which we get the lowest value of sum of residual square >> will be our best fit line."
   ]
  },
  {
   "cell_type": "code",
   "execution_count": null,
   "metadata": {},
   "outputs": [],
   "source": [
    "How x and y interact with each other  and this interaction is nothing but our model."
   ]
  }
 ],
 "metadata": {
  "kernelspec": {
   "display_name": "Python 3 (ipykernel)",
   "language": "python",
   "name": "python3"
  },
  "language_info": {
   "codemirror_mode": {
    "name": "ipython",
    "version": 3
   },
   "file_extension": ".py",
   "mimetype": "text/x-python",
   "name": "python",
   "nbconvert_exporter": "python",
   "pygments_lexer": "ipython3",
   "version": "3.9.7"
  }
 },
 "nbformat": 4,
 "nbformat_minor": 4
}
