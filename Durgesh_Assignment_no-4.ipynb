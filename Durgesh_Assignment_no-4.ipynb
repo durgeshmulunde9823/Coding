{
 "cells": [
  {
   "cell_type": "markdown",
   "id": "53c63875",
   "metadata": {},
   "source": [
    "### Durgesh Mulunde (Assignment_4)"
   ]
  },
  {
   "cell_type": "markdown",
   "id": "55b30aba",
   "metadata": {},
   "source": [
    "### Q.1 Python program to sort Python Dictionaries by Keys "
   ]
  },
  {
   "cell_type": "code",
   "execution_count": 4,
   "id": "07bdbf01",
   "metadata": {},
   "outputs": [
    {
     "name": "stdout",
     "output_type": "stream",
     "text": [
      "{'d': 100, 'e': 140, 'g': 130, 'r': 120, 's': 3150, 'u': 110}\n"
     ]
    }
   ],
   "source": [
    "dict1 = {'d':100,'u':110,'r':120,'g':130,'e':140,'s':3150}\n",
    "sorted(dict1.keys())\n",
    "result = {}\n",
    "for i in sorted(dict1.keys()):\n",
    "    result[i]=dict1[i]\n",
    "print(result)"
   ]
  },
  {
   "cell_type": "markdown",
   "id": "4001db3b",
   "metadata": {},
   "source": [
    "### Q.2 Python program to sort Python Dictionaries by Values"
   ]
  },
  {
   "cell_type": "code",
   "execution_count": 5,
   "id": "1ba52cdc",
   "metadata": {},
   "outputs": [
    {
     "data": {
      "text/plain": [
       "{'u': 24, 'd': 35, 'r': 38, 'e': 87, 'g': 94, 's': 155}"
      ]
     },
     "execution_count": 5,
     "metadata": {},
     "output_type": "execute_result"
    }
   ],
   "source": [
    "dict2 = {'d':35,'u':24,'r':38,'g':94,'e':87,'s':155}\n",
    "sorted(dict2.values())\n",
    "result = {}\n",
    "for i in sorted(dict2.values()):\n",
    "    for j in dict2: \n",
    "        if i == dict2[j]:\n",
    "            result.update({j:i})\n",
    "result"
   ]
  },
  {
   "cell_type": "markdown",
   "id": "7d7b4693",
   "metadata": {},
   "source": [
    "### Q.3 Python program to find the sum of all items in a dictionary"
   ]
  },
  {
   "cell_type": "code",
   "execution_count": 6,
   "id": "a112f873",
   "metadata": {},
   "outputs": [
    {
     "name": "stdout",
     "output_type": "stream",
     "text": [
      "The sum of all the values in dict1 is : 231\n"
     ]
    }
   ],
   "source": [
    "# finding sum of all the values.\n",
    "dict1 = {'d':40,'u':24,'r':11,'g':14,'e':87,'s':55}\n",
    "dict1.values()\n",
    "sum_values = 0\n",
    "for i in dict1.values():\n",
    "    sum_values+=i\n",
    "print(f'The sum of all the values in dict1 is : {sum_values}')"
   ]
  },
  {
   "cell_type": "markdown",
   "id": "b2c29232",
   "metadata": {},
   "source": [
    "### Q.4 Python program to remove a key from a dictionary\n"
   ]
  },
  {
   "cell_type": "code",
   "execution_count": 7,
   "id": "5d9fd7f4",
   "metadata": {},
   "outputs": [
    {
     "ename": "NameError",
     "evalue": "name 'e' is not defined",
     "output_type": "error",
     "traceback": [
      "\u001b[1;31m---------------------------------------------------------------------------\u001b[0m",
      "\u001b[1;31mNameError\u001b[0m                                 Traceback (most recent call last)",
      "\u001b[1;32m~\\AppData\\Local\\Temp/ipykernel_10344/3922812756.py\u001b[0m in \u001b[0;36m<module>\u001b[1;34m\u001b[0m\n\u001b[1;32m----> 1\u001b[1;33m \u001b[0mdict3\u001b[0m \u001b[1;33m=\u001b[0m \u001b[1;33m{\u001b[0m\u001b[1;34m'd'\u001b[0m\u001b[1;33m:\u001b[0m\u001b[1;36m40\u001b[0m\u001b[1;33m,\u001b[0m\u001b[1;34m'u'\u001b[0m\u001b[1;33m:\u001b[0m\u001b[1;36m14\u001b[0m\u001b[1;33m,\u001b[0m\u001b[1;34m'r'\u001b[0m\u001b[1;33m:\u001b[0m\u001b[1;36m11\u001b[0m\u001b[1;33m,\u001b[0m\u001b[1;34m'g'\u001b[0m\u001b[1;33m:\u001b[0m\u001b[1;36m14\u001b[0m\u001b[1;33m,\u001b[0m\u001b[0me\u001b[0m\u001b[1;33m:\u001b[0m\u001b[1;36m17\u001b[0m\u001b[1;33m,\u001b[0m\u001b[1;34m's'\u001b[0m\u001b[1;33m:\u001b[0m\u001b[1;36m15\u001b[0m\u001b[1;33m}\u001b[0m\u001b[1;33m\u001b[0m\u001b[1;33m\u001b[0m\u001b[0m\n\u001b[0m\u001b[0;32m      2\u001b[0m \u001b[1;33m\u001b[0m\u001b[0m\n\u001b[0;32m      3\u001b[0m \u001b[1;31m# i. pop\u001b[0m\u001b[1;33m\u001b[0m\u001b[1;33m\u001b[0m\u001b[0m\n\u001b[0;32m      4\u001b[0m \u001b[0mpop_1\u001b[0m \u001b[1;33m=\u001b[0m \u001b[0mdict3\u001b[0m\u001b[1;33m.\u001b[0m\u001b[0mpop\u001b[0m\u001b[1;33m(\u001b[0m\u001b[1;34m'j'\u001b[0m\u001b[1;33m)\u001b[0m\u001b[1;33m\u001b[0m\u001b[1;33m\u001b[0m\u001b[0m\n\u001b[0;32m      5\u001b[0m \u001b[0mprint\u001b[0m\u001b[1;33m(\u001b[0m\u001b[1;34mf'Using pop function : {dict3}'\u001b[0m\u001b[1;33m)\u001b[0m\u001b[1;33m\u001b[0m\u001b[1;33m\u001b[0m\u001b[0m\n",
      "\u001b[1;31mNameError\u001b[0m: name 'e' is not defined"
     ]
    }
   ],
   "source": [
    "dict3 = {'d':40,'u':14,'r':11,'g':14,e:17,'s':15}\n",
    "\n",
    "# i. pop\n",
    "pop_1 = dict3.pop('j')\n",
    "print(f'Using pop function : {dict3}')\n",
    "\n",
    "# ii. popitem() - It will delete the most recent added key:value in our dictionary.\n",
    "dict3.popitem()\n",
    "print(f'Using popitem function : {dict3}')\n",
    "\n",
    "# iii. del()\n",
    "del dict3['n']\n",
    "print(f'Using delete function : {dict3}')\n"
   ]
  },
  {
   "cell_type": "markdown",
   "id": "9f995cdf",
   "metadata": {},
   "source": [
    "### Q.5 Python program to merge two Dictionaries"
   ]
  },
  {
   "cell_type": "code",
   "execution_count": 7,
   "id": "92e17dd6",
   "metadata": {},
   "outputs": [
    {
     "name": "stdout",
     "output_type": "stream",
     "text": [
      "So after merging dict3 and dict4 it will be : {'h': 14, 'g': 17, 'e': 15, 'c': 10, 'd': 14, 'f': 11}\n"
     ]
    }
   ],
   "source": [
    "dict3 = {'h':14,'g':17,'e':15}\n",
    "dict4 = {'c':10,'d':14,'f':11}\n",
    "\n",
    "final_dict = dict3.copy()\n",
    "final_dict.update(dict4)\n",
    "print(f'So after merging dict3 and dict4 it will be : {final_dict}')"
   ]
  },
  {
   "cell_type": "markdown",
   "id": "d5ec7ef3",
   "metadata": {},
   "source": [
    "### 6)Program to create grade calculator in Python"
   ]
  },
  {
   "cell_type": "code",
   "execution_count": 5,
   "id": "d7494cc4",
   "metadata": {},
   "outputs": [
    {
     "name": "stdout",
     "output_type": "stream",
     "text": [
      "Enter your marks : 75\n",
      "you got A-\n"
     ]
    }
   ],
   "source": [
    "# students ={\"john\":[89,78,80,96,76],\"brock\":[89,76,89,80,60]}\n",
    "# print(students[\"john\"])\n",
    "grade = eval(input(\"Enter your marks : \")) \n",
    "if grade>=90:\n",
    " print(\"you got A+\")\n",
    "elif 80<= grade<90:\n",
    " print(\"You got A\")\n",
    "elif 60<=grade<80:\n",
    " print(\"you got A-\")\n",
    "else:\n",
    " print(\"you need A- for qualififying\")\n",
    "\n"
   ]
  },
  {
   "cell_type": "markdown",
   "id": "56a16186",
   "metadata": {},
   "source": [
    "### Q.10 Python Dictionary to find mirror characters in a string"
   ]
  },
  {
   "cell_type": "code",
   "execution_count": 10,
   "id": "9b0db040",
   "metadata": {},
   "outputs": [
    {
     "name": "stdout",
     "output_type": "stream",
     "text": [
      "Please enter your text : vishal\n",
      "Please enter the index number from where you want to mirror : 3\n",
      "vihszo\n"
     ]
    }
   ],
   "source": [
    "a_to_z = 'abcdefghijklmnopqrstuvwxyz'\n",
    "z_to_a = 'zyxwvutsrqponmlkjihgfedcba'\n",
    "text = input('Please enter your text : ')\n",
    "num = int(input('Please enter the index number from where you want to mirror : '))\n",
    "reverse_dict = dict(zip(a_to_z , z_to_a))\n",
    "pre = text[0:num-1]\n",
    "post = text[num-1:]\n",
    "mirror = ''\n",
    "for i in range(len(post)):\n",
    "    mirror = mirror + reverse_dict[post[i]]\n",
    "print (pre+mirror)  "
   ]
  },
  {
   "cell_type": "markdown",
   "id": "510a505f",
   "metadata": {},
   "source": [
    "### Q.11 Counting the frequencies in a list using a dictionary in Python"
   ]
  },
  {
   "cell_type": "code",
   "execution_count": 24,
   "id": "38099642",
   "metadata": {},
   "outputs": [
    {
     "name": "stdout",
     "output_type": "stream",
     "text": [
      "{1: 4, 2: 5, 3: 2, 4: 4, 5: 2}\n"
     ]
    }
   ],
   "source": [
    "list1 = [1, 1, 1, 2, 5, 5, 3, 4, 1, 3, 4, 4, 4, 2, 2, 2, 2]\n",
    "freq = {}\n",
    "\n",
    "for i in sorted(list1):\n",
    "    freq[i] = list1.count(i)\n",
    "print(freq)"
   ]
  },
  {
   "cell_type": "markdown",
   "id": "39778c23",
   "metadata": {},
   "source": [
    "### Q.12 Python program to convert a list of Tuples into Dictionary"
   ]
  },
  {
   "cell_type": "code",
   "execution_count": 43,
   "id": "7ab39b95",
   "metadata": {},
   "outputs": [
    {
     "name": "stdout",
     "output_type": "stream",
     "text": [
      "{0: (1, 2, 3), 1: (7, 4, 1), 2: (8,), 3: (9, 5), 4: (10, 4), 5: (7, 9), 6: (5, 3, 6), 7: (8, 7, 4)}\n"
     ]
    }
   ],
   "source": [
    "list_of_tuples = [(1,2,3),(7,4,1),(8,),(9,5),(10,4),(7,9),(5,3,6),(8,7,4)]\n",
    "dict1 = {}\n",
    "for i in range(len(list_of_tuples)):\n",
    "    dict1[i] = list_of_tuples[i]\n",
    "print(dict1)"
   ]
  },
  {
   "cell_type": "markdown",
   "id": "4376f6b1",
   "metadata": {},
   "source": [
    "### Q.13 Scraping And Finding Ordered Words In A Dictionary using Python"
   ]
  },
  {
   "cell_type": "code",
   "execution_count": 16,
   "id": "80f65aa4",
   "metadata": {},
   "outputs": [
    {
     "name": "stdout",
     "output_type": "stream",
     "text": [
      "['allow']\n",
      "{6: 'allow'}\n"
     ]
    }
   ],
   "source": [
    "dict2 = {1:'rock',2:'edge',3:'john',4:'randy',5:'beast',6:'Allow'}\n",
    "list1 = []\n",
    "list2 = []\n",
    "dict3 = {}\n",
    "\n",
    "for i in dict2.values():\n",
    "    i = i.lower()\n",
    "    list1.append(''.join(sorted(i)))\n",
    "    for j in list1:\n",
    "        if i == j:\n",
    "            list2.append(i)\n",
    "        for k in dict2:\n",
    "            if dict2[k] == j.title():\n",
    "                dict3[k] = j\n",
    "print(list2)\n",
    "print(dict3)"
   ]
  },
  {
   "cell_type": "markdown",
   "id": "9ada3c9b",
   "metadata": {},
   "source": [
    "### Q.14 Create a list of tuples from the given list having a number and its cube in each tuple"
   ]
  },
  {
   "cell_type": "code",
   "execution_count": 32,
   "id": "04adbd96",
   "metadata": {},
   "outputs": [
    {
     "name": "stdout",
     "output_type": "stream",
     "text": [
      "[(1, 1), (2, 8), (3, 27), (4, 64), (5, 125), (6, 216), (7, 343), (8, 512), (9, 729), (10, 1000)]\n"
     ]
    }
   ],
   "source": [
    "list_a = [1,2,3,4,5,6,7,8,9,10]\n",
    "list_b = []\n",
    "result = []\n",
    "for i in list_a:\n",
    "    s = i**3\n",
    "    list_b.append(s)\n",
    "result = list(zip(list_a,list_b)) \n",
    "print(result)"
   ]
  },
  {
   "cell_type": "markdown",
   "id": "7ac4241c",
   "metadata": {},
   "source": [
    "### Q.15 Sort a list of tuples by the second Item"
   ]
  },
  {
   "cell_type": "code",
   "execution_count": 17,
   "id": "c17e8b4a",
   "metadata": {},
   "outputs": [
    {
     "name": "stdout",
     "output_type": "stream",
     "text": [
      "[('S', 2), ('V', 4), ('A', 6), ('I', 8), ('H', 10), ('L', 12)]\n"
     ]
    }
   ],
   "source": [
    "list_c = [('V',4),('I',8),('S',2),('H',10),('A',6),('L',12)]\n",
    "for i in range(0,len(list_c)):\n",
    "    for j in range(0,len(list_c)-i-1):\n",
    "        if (list_c[j][1] > list_c[j+1][1]):\n",
    "            x = list_c[j]\n",
    "            list_c[j] = list_c[j+1]\n",
    "            list_c[j+1] = x\n",
    "print(list_c)"
   ]
  },
  {
   "cell_type": "code",
   "execution_count": null,
   "id": "97e8d570",
   "metadata": {},
   "outputs": [],
   "source": []
  }
 ],
 "metadata": {
  "kernelspec": {
   "display_name": "Python 3 (ipykernel)",
   "language": "python",
   "name": "python3"
  },
  "language_info": {
   "codemirror_mode": {
    "name": "ipython",
    "version": 3
   },
   "file_extension": ".py",
   "mimetype": "text/x-python",
   "name": "python",
   "nbconvert_exporter": "python",
   "pygments_lexer": "ipython3",
   "version": "3.9.7"
  }
 },
 "nbformat": 4,
 "nbformat_minor": 5
}
